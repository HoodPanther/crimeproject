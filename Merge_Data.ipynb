{
 "cells": [
  {
   "cell_type": "code",
   "execution_count": 1,
   "metadata": {
    "collapsed": true
   },
   "outputs": [],
   "source": [
    "import pandas as pd\n",
    "import numpy as np"
   ]
  },
  {
   "cell_type": "code",
   "execution_count": 2,
   "metadata": {
    "collapsed": false
   },
   "outputs": [],
   "source": [
    "data = pd.read_csv('data_merge_csvs/zips.csv',names=['boro','zipcode'])"
   ]
  },
  {
   "cell_type": "markdown",
   "metadata": {},
   "source": [
    "## Merge total business"
   ]
  },
  {
   "cell_type": "code",
   "execution_count": 3,
   "metadata": {
    "collapsed": false
   },
   "outputs": [],
   "source": [
    "business = pd.read_csv('data_merge_csvs/allbusiness.csv',names=['zipcode','businesses'])\n",
    "indata = business[business['zipcode'].isin(data['zipcode'])]"
   ]
  },
  {
   "cell_type": "code",
   "execution_count": 4,
   "metadata": {
    "collapsed": false
   },
   "outputs": [],
   "source": [
    "data = pd.merge(data,indata,how='left')"
   ]
  },
  {
   "cell_type": "markdown",
   "metadata": {},
   "source": [
    "## Merge select businesses"
   ]
  },
  {
   "cell_type": "code",
   "execution_count": 5,
   "metadata": {
    "collapsed": false
   },
   "outputs": [],
   "source": [
    "business = pd.read_csv('data_merge_csvs/business_types.csv',names=['zipcode','businesses','counts'])\n",
    "importantbus = ['Sidewalk Cafe','Pawnbroker','Debt Collection Agency','Cigarette Retail Dealer']\n",
    "subsets = business[business['businesses'].isin(importantbus)]\n",
    "\n",
    "cafe = subsets[subsets['businesses']=='Sidewalk Cafe'][['zipcode','counts']]\n",
    "pawn = subsets[subsets['businesses']=='Pawnbroker'][['zipcode','counts']]\n",
    "debt = subsets[subsets['businesses']=='Debt Collection Agency'][['zipcode','counts']]\n",
    "cig = subsets[subsets['businesses']=='Cigarette Retail Dealer'][['zipcode','counts']]\n",
    "\n",
    "bizcounts=pd.merge(pd.merge(pd.merge(cafe,pawn,how='left',on='zipcode'), \\\n",
    "                           debt,how='left',on='zipcode'), \\\n",
    "                           cig,how='left',on='zipcode')\n",
    "bizcounts.columns=['zipcode','cafe','pawn','debt','cig']\n",
    "\n",
    "bizcounts['cafe'] = bizcounts.cafe.fillna(0)\n",
    "bizcounts['pawn'] = bizcounts.pawn.fillna(0)\n",
    "bizcounts['debt'] = bizcounts.debt.fillna(0)\n",
    "bizcounts['cig'] = bizcounts.cig.fillna(0)\n",
    "\n",
    "bizcounts['total_select_bus']=bizcounts.cafe + bizcounts.pawn + \\\n",
    "                            bizcounts.debt + bizcounts.cig\n"
   ]
  },
  {
   "cell_type": "code",
   "execution_count": 6,
   "metadata": {
    "collapsed": false
   },
   "outputs": [],
   "source": [
    "data = pd.merge(data,bizcounts,how='left')"
   ]
  },
  {
   "cell_type": "markdown",
   "metadata": {},
   "source": [
    "## Merge Housing Complaints"
   ]
  },
  {
   "cell_type": "code",
   "execution_count": 7,
   "metadata": {
    "collapsed": false
   },
   "outputs": [],
   "source": [
    "devs = pd.read_csv('data_merge_csvs/hpd.csv',names=['zipcode','type','devnumber'])\n",
    "devs=devs[devs['zipcode'].isin(data['zipcode'])]\n",
    "types = ['A','B','C']\n",
    "devs=devs[devs['type'].isin(types)]\n",
    "\n",
    "a = devs.loc[devs['type']=='A']\n",
    "a.columns=['zipcode','type','hpdA']\n",
    "a = a[['zipcode','hpdA']]\n",
    "\n",
    "b = devs.loc[devs['type']=='B']\n",
    "b.columns=['zipcode','type','hpdB']\n",
    "b = b[['zipcode','hpdB']]\n",
    "\n",
    "c = devs.loc[devs['type']=='C']\n",
    "c.columns=['zipcode','type','hpdC']\n",
    "c = c[['zipcode','hpdC']]\n",
    "\n",
    "building = pd.merge(pd.merge(a,b),c)\n",
    "\n",
    "building['hpdTotal']=building.hpdA+building.hpdB+building.hpdC"
   ]
  },
  {
   "cell_type": "code",
   "execution_count": 8,
   "metadata": {
    "collapsed": false
   },
   "outputs": [],
   "source": [
    "data = pd.merge(data,building,how='left')"
   ]
  },
  {
   "cell_type": "markdown",
   "metadata": {},
   "source": [
    "## Merge rodent data"
   ]
  },
  {
   "cell_type": "code",
   "execution_count": 9,
   "metadata": {
    "collapsed": false
   },
   "outputs": [],
   "source": [
    "rodents = pd.read_csv('data_merge_csvs/rod.csv',names=['zipcode','indicator','counts'])\n",
    "badrodent=rodents[rodents['indicator'].isin(['Active Rat Signs','Problem Conditions'])]\n",
    "posrodent=rodents[rodents['indicator'].isin(['Passed Inspection'])]\n",
    "\n",
    "active = badrodent[badrodent['indicator']=='Active Rat Signs']\n",
    "active = active[['zipcode','counts']]\n",
    "problems = badrodent[badrodent['indicator']=='Problem Conditions']\n",
    "problems = problems[['zipcode','counts']]\n",
    "\n",
    "badrodent = pd.merge(problems,active,how='left',on='zipcode')\n",
    "badrodent['negativeRodent']=badrodent.counts_x+badrodent.counts_y\n",
    "rodent_indicators = pd.merge(badrodent,posrodent,how='left',on='zipcode')\n",
    "select_inds=rodent_indicators[['zipcode','negativeRodent','counts']]\n",
    "select_inds.columns=['zipcode','negativeRodent','positiveRodent']"
   ]
  },
  {
   "cell_type": "code",
   "execution_count": 10,
   "metadata": {
    "collapsed": false
   },
   "outputs": [],
   "source": [
    "data = pd.merge(data,select_inds,how='left')"
   ]
  },
  {
   "cell_type": "markdown",
   "metadata": {},
   "source": [
    "## Merge crime"
   ]
  },
  {
   "cell_type": "code",
   "execution_count": 11,
   "metadata": {
    "collapsed": false
   },
   "outputs": [],
   "source": [
    "crime = pd.read_csv('data_merge_csvs/zipcrime.csv',names=['zipcode','total_crime','violation','misdemeanor','felony'])"
   ]
  },
  {
   "cell_type": "code",
   "execution_count": 12,
   "metadata": {
    "collapsed": false
   },
   "outputs": [],
   "source": [
    "data = pd.merge(data,crime,how='left')"
   ]
  },
  {
   "cell_type": "code",
   "execution_count": 13,
   "metadata": {
    "collapsed": false
   },
   "outputs": [
    {
     "data": {
      "text/plain": [
       "Index(['boro', 'zipcode', 'businesses', 'cafe', 'pawn', 'debt', 'cig',\n",
       "       'total_select_bus', 'hpdA', 'hpdB', 'hpdC', 'hpdTotal',\n",
       "       'negativeRodent', 'positiveRodent', 'total_crime', 'violation',\n",
       "       'misdemeanor', 'felony'],\n",
       "      dtype='object')"
      ]
     },
     "execution_count": 13,
     "metadata": {},
     "output_type": "execute_result"
    }
   ],
   "source": [
    "data.columns"
   ]
  },
  {
   "cell_type": "markdown",
   "metadata": {},
   "source": [
    "## Merge additional keycodes"
   ]
  },
  {
   "cell_type": "code",
   "execution_count": 14,
   "metadata": {
    "collapsed": true
   },
   "outputs": [],
   "source": [
    "keys = pd.read_csv('data_merge_csvs/keyzipcode.csv',names=['zipcode','theft','assault','harassment'])"
   ]
  },
  {
   "cell_type": "code",
   "execution_count": 15,
   "metadata": {
    "collapsed": false
   },
   "outputs": [],
   "source": [
    "data = pd.merge(data,keys,how='left')"
   ]
  },
  {
   "cell_type": "code",
   "execution_count": 16,
   "metadata": {
    "collapsed": false
   },
   "outputs": [
    {
     "data": {
      "text/plain": [
       "Index(['boro', 'zipcode', 'businesses', 'cafe', 'pawn', 'debt', 'cig',\n",
       "       'total_select_bus', 'hpdA', 'hpdB', 'hpdC', 'hpdTotal',\n",
       "       'negativeRodent', 'positiveRodent', 'total_crime', 'violation',\n",
       "       'misdemeanor', 'felony', 'theft', 'assault', 'harassment'],\n",
       "      dtype='object')"
      ]
     },
     "execution_count": 16,
     "metadata": {},
     "output_type": "execute_result"
    }
   ],
   "source": [
    "data.columns"
   ]
  },
  {
   "cell_type": "markdown",
   "metadata": {},
   "source": [
    "## Merge Population"
   ]
  },
  {
   "cell_type": "code",
   "execution_count": 17,
   "metadata": {
    "collapsed": true
   },
   "outputs": [],
   "source": [
    "population = pd.read_csv('data_merge_csvs/population_by_zipcode.csv', names=['zipcode','population','pop_per_sqmile'])"
   ]
  },
  {
   "cell_type": "code",
   "execution_count": 18,
   "metadata": {
    "collapsed": true
   },
   "outputs": [],
   "source": [
    "data = pd.merge(data,population,how='left')"
   ]
  },
  {
   "cell_type": "code",
   "execution_count": 19,
   "metadata": {
    "collapsed": false
   },
   "outputs": [
    {
     "data": {
      "text/plain": [
       "Index(['boro', 'zipcode', 'businesses', 'cafe', 'pawn', 'debt', 'cig',\n",
       "       'total_select_bus', 'hpdA', 'hpdB', 'hpdC', 'hpdTotal',\n",
       "       'negativeRodent', 'positiveRodent', 'total_crime', 'violation',\n",
       "       'misdemeanor', 'felony', 'theft', 'assault', 'harassment', 'population',\n",
       "       'pop_per_sqmile'],\n",
       "      dtype='object')"
      ]
     },
     "execution_count": 19,
     "metadata": {},
     "output_type": "execute_result"
    }
   ],
   "source": [
    "data.columns"
   ]
  },
  {
   "cell_type": "markdown",
   "metadata": {},
   "source": [
    "## Export"
   ]
  },
  {
   "cell_type": "code",
   "execution_count": 20,
   "metadata": {
    "collapsed": false
   },
   "outputs": [],
   "source": [
    "data.to_csv('results/crime_regression_data.csv',index=False)"
   ]
  }
 ],
 "metadata": {
  "anaconda-cloud": {},
  "kernelspec": {
   "display_name": "Python [Root]",
   "language": "python",
   "name": "Python [Root]"
  },
  "language_info": {
   "codemirror_mode": {
    "name": "ipython",
    "version": 3
   },
   "file_extension": ".py",
   "mimetype": "text/x-python",
   "name": "python",
   "nbconvert_exporter": "python",
   "pygments_lexer": "ipython3",
   "version": "3.5.2"
  }
 },
 "nbformat": 4,
 "nbformat_minor": 2
}
